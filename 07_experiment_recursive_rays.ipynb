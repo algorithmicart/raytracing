{
 "cells": [
  {
   "cell_type": "code",
   "execution_count": 1,
   "metadata": {
    "collapsed": true
   },
   "outputs": [],
   "source": [
    "# raytracing tutorial\n",
    "# 07- experiment with recursive rays function"
   ]
  },
  {
   "cell_type": "code",
   "execution_count": 4,
   "metadata": {
    "collapsed": true
   },
   "outputs": [],
   "source": [
    "# max depth for scene\n",
    "max_depth = 3\n",
    "\n",
    "# recursive ray function\n",
    "\n",
    "def ray(depth):\n",
    "    print(\"depth = \", depth, \"max_depth = \", max_depth)\n",
    "    \n",
    "    # colour contribution\n",
    "    colour_contribution = 0.1/depth\n",
    "    \n",
    "    # fire off new ray\n",
    "    if (depth < max_depth):\n",
    "        colour_contribution += ray(depth+1)\n",
    "        pass\n",
    "    \n",
    "    return colour_contribution"
   ]
  },
  {
   "cell_type": "code",
   "execution_count": 5,
   "metadata": {},
   "outputs": [
    {
     "name": "stdout",
     "output_type": "stream",
     "text": [
      "depth =  1 max_depth =  3\n",
      "depth =  2 max_depth =  3\n",
      "depth =  3 max_depth =  3\n"
     ]
    },
    {
     "data": {
      "text/plain": [
       "0.18333333333333335"
      ]
     },
     "execution_count": 5,
     "metadata": {},
     "output_type": "execute_result"
    }
   ],
   "source": [
    "ray(1)"
   ]
  },
  {
   "cell_type": "code",
   "execution_count": null,
   "metadata": {
    "collapsed": true
   },
   "outputs": [],
   "source": []
  }
 ],
 "metadata": {
  "kernelspec": {
   "display_name": "Python 3",
   "language": "python",
   "name": "python3"
  },
  "language_info": {
   "codemirror_mode": {
    "name": "ipython",
    "version": 3
   },
   "file_extension": ".py",
   "mimetype": "text/x-python",
   "name": "python",
   "nbconvert_exporter": "python",
   "pygments_lexer": "ipython3",
   "version": "3.6.2"
  }
 },
 "nbformat": 4,
 "nbformat_minor": 2
}
