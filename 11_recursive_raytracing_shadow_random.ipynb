{
 "cells": [
  {
   "cell_type": "code",
   "execution_count": 1,
   "metadata": {
    "collapsed": true
   },
   "outputs": [],
   "source": [
    "# raytracing tutorial\n",
    "# 11 - recursive raytracing with shadows and random spheres"
   ]
  },
  {
   "cell_type": "code",
   "execution_count": 2,
   "metadata": {
    "collapsed": true
   },
   "outputs": [],
   "source": [
    "import numpy\n",
    "import matplotlib.pyplot as plt\n",
    "import math\n",
    "\n",
    "import random\n",
    "\n",
    "# plot images in this notebook\n",
    "%matplotlib inline"
   ]
  },
  {
   "cell_type": "code",
   "execution_count": 3,
   "metadata": {
    "collapsed": true
   },
   "outputs": [],
   "source": [
    "# axes x to the right, y upwards. z into the screen (left hand rule)"
   ]
  },
  {
   "cell_type": "code",
   "execution_count": 4,
   "metadata": {
    "collapsed": true
   },
   "outputs": [],
   "source": [
    "# sphere object\n",
    "\n",
    "class Sphere():\n",
    "    \n",
    "    def __init__(self, x, y, z, r, colour):\n",
    "        self.centre = numpy.array([x,y,z])\n",
    "        self.radius = r\n",
    "        self.colour = colour\n",
    "        pass\n",
    "    \n",
    "    def status(self):\n",
    "        print(\"centre = \", self.centre)\n",
    "        print(\"radius = \", self.radius)\n",
    "        print(\"colour = \", self.colour)\n",
    "        pass\n",
    "\n",
    "    def intersection(self, camera_location, ray_direction_vector):\n",
    "        # calculate quadratic determinant \"b^2 - 4ac\" for ray intersecting circle\n",
    "        b = numpy.dot(2 * ray_direction_vector,(camera_location - self.centre))\n",
    "        b2 = b*b\n",
    "        a = numpy.dot(ray_direction_vector, ray_direction_vector)\n",
    "        c = numpy.dot((self.centre - camera_location), (self.centre - camera_location)) - (self.radius * self.radius)\n",
    "        delta = b2 - (4 * a * c)\n",
    "        #print(delta)\n",
    "        \n",
    "        if (delta >= 0):\n",
    "            # calculate nearest point (lowest t)\n",
    "            t = (-b - math.sqrt(delta)) / (2 * a)\n",
    "            intersection_point = camera_location + (t * ray_direction_vector)\n",
    "            \n",
    "            # calculate normal at surface\n",
    "            normal = (intersection_point - self.centre) / numpy.linalg.norm(intersection_point - self.centre)\n",
    "            \n",
    "            # additional check to ensure intersection was in direction of ray, t>0\n",
    "            if (t<0):\n",
    "                # set delta negative as if not intersected\n",
    "                delta = -1\n",
    "                pass\n",
    "            \n",
    "            # return tuple (intersection yes/no, nearest point, normal)\n",
    "            return (delta>0, intersection_point, normal, self.colour)\n",
    "            pass\n",
    "        \n",
    "        # return tuple (intersection yes/no, nearest point, norm, colour)\n",
    "        return (delta >= 0, 0, 0, numpy.array([0,0,0]))"
   ]
  },
  {
   "cell_type": "code",
   "execution_count": 5,
   "metadata": {
    "collapsed": true
   },
   "outputs": [],
   "source": [
    "# camera location\n",
    "camera_location = numpy.array([0,0,-100])\n",
    "\n",
    "# view port\n",
    "view_port_location = numpy.array([-10, 0, 0])\n",
    "view_port_width = 20\n",
    "view_port_height = 20\n",
    "\n",
    "# resolution (pixels per unit distance)\n",
    "resolution = 40"
   ]
  },
  {
   "cell_type": "code",
   "execution_count": 6,
   "metadata": {
    "collapsed": true
   },
   "outputs": [],
   "source": [
    "# light source\n",
    "\n",
    "# light is at above right, and a bit forward\n",
    "light_location = numpy.array([100, 100, -50])\n",
    "\n",
    "# ambient light factor\n",
    "ambient = 0.25"
   ]
  },
  {
   "cell_type": "code",
   "execution_count": 7,
   "metadata": {},
   "outputs": [
    {
     "name": "stdout",
     "output_type": "stream",
     "text": [
      "centre =  [-2 18 40]\n",
      "radius =  1\n",
      "colour =  [ 0.40447495  0.60799223  0.17052637]\n",
      "centre =  [ 5 12 12]\n",
      "radius =  1\n",
      "colour =  [ 0.82993304  0.57012698  0.242121  ]\n",
      "centre =  [-5  6  7]\n",
      "radius =  2\n",
      "colour =  [ 0.11862645  0.58449479  0.03406806]\n",
      "centre =  [-4 14 39]\n",
      "radius =  1\n",
      "colour =  [ 0.22603372  0.86803423  0.17938003]\n",
      "centre =  [-2 19 18]\n",
      "radius =  1\n",
      "colour =  [ 0.93546138  0.97309359  0.78806973]\n",
      "centre =  [-5  5  5]\n",
      "radius =  2\n",
      "colour =  [ 0.56607428  0.59002602  0.45724351]\n",
      "centre =  [-4 13 33]\n",
      "radius =  1\n",
      "colour =  [ 0.02308816  0.41024827  0.20393809]\n",
      "centre =  [-1 16 26]\n",
      "radius =  2\n",
      "colour =  [ 0.53433929  0.68557196  0.97690396]\n",
      "centre =  [-2 16 18]\n",
      "radius =  2\n",
      "colour =  [ 0.53673593  0.93063112  0.86808205]\n",
      "centre =  [-2 20 10]\n",
      "radius =  1\n",
      "colour =  [ 0.79399069  0.70246695  0.43628995]\n",
      "centre =  [ 5 20 29]\n",
      "radius =  1\n",
      "colour =  [ 0.00620234  0.4656434   0.95426345]\n",
      "centre =  [ 2 19 31]\n",
      "radius =  1\n",
      "colour =  [ 0.28745343  0.06145454  0.48635215]\n",
      "centre =  [-3 18 17]\n",
      "radius =  2\n",
      "colour =  [ 0.1413636   0.96301516  0.61207118]\n",
      "centre =  [-5  8 10]\n",
      "radius =  2\n",
      "colour =  [ 0.69337161  0.7302974   0.00772258]\n",
      "centre =  [ 1 19 13]\n",
      "radius =  2\n",
      "colour =  [ 0.79713344  0.24999616  0.0596257 ]\n"
     ]
    }
   ],
   "source": [
    "# scene is a list of objects\n",
    "scene_objects = []\n",
    "\n",
    "# add random spheres, with random colours\n",
    "for s in range(15):\n",
    "    x = random.randint(-5, 5)\n",
    "    y = random.randint(5, 20)\n",
    "    z = random.randint(0, 40)\n",
    "    s = random.randint(1,2)\n",
    "    r = random.random()\n",
    "    g = random.random()\n",
    "    b = random.random()\n",
    "    scene_objects.append(Sphere(x,y,z,s, numpy.array([r, g, b])))\n",
    "    pass\n",
    "\n",
    "# get status of each object\n",
    "for obj in scene_objects:\n",
    "    obj.status()\n",
    "    pass"
   ]
  },
  {
   "cell_type": "code",
   "execution_count": 8,
   "metadata": {},
   "outputs": [
    {
     "name": "stdout",
     "output_type": "stream",
     "text": [
      "image shape =  (800, 800, 3)\n"
     ]
    }
   ],
   "source": [
    "# create image\n",
    "\n",
    "image = numpy.zeros([view_port_width * resolution, view_port_height * resolution, 3], dtype='float64')\n",
    "print(\"image shape = \", image.shape)"
   ]
  },
  {
   "cell_type": "code",
   "execution_count": 24,
   "metadata": {
    "collapsed": true
   },
   "outputs": [],
   "source": [
    "# max ray tracing depth for scene\n",
    "max_depth = 3\n",
    "\n",
    "# recursive ray function\n",
    "def ray(ray_origin, ray_direction, depth):\n",
    "    \n",
    "    # start with zero colour contribution, false intersected flag and nearest point at infinity\n",
    "    colour_contribution = numpy.array([0.0,0.0,0.0])    \n",
    "    intersected = False\n",
    "    distance_to_nearest_point = numpy.Infinity\n",
    "    nearest_obj = False\n",
    "    \n",
    "    for obj in scene_objects:\n",
    "        \n",
    "        # check intersection with object\n",
    "        intersection = obj.intersection(ray_origin, ray_direction)\n",
    "        \n",
    "        # did it intersect?\n",
    "        if intersection[0]:\n",
    "            intersected = True\n",
    "            \n",
    "            distance_to_point = numpy.linalg.norm(intersection[1] - ray_origin)\n",
    "            \n",
    "            if (distance_to_point < distance_to_nearest_point):\n",
    "                \n",
    "                # update nearest point\n",
    "                distance_to_nearest_point = distance_to_point\n",
    "                point_on_nearest_obj = intersection[1]\n",
    "                norm = intersection[2]\n",
    "                obj_colour = intersection[3]\n",
    "                nearest_obj = obj\n",
    "                \n",
    "                # vector to light\n",
    "                to_light = light_location - point_on_nearest_obj\n",
    "                to_light /= numpy.linalg.norm(to_light)\n",
    "                \n",
    "                # illumination factor\n",
    "                cos_norm_to_lightsource = numpy.dot(to_light, norm) / numpy.linalg.norm(to_light)\n",
    "                \n",
    "                # reflected factor (will have norm 1)\n",
    "                reflected_ray = (2 * numpy.dot(norm, to_light) * norm) - to_light\n",
    "                cos_ray_to_reflection = numpy.dot(-ray_direction, reflected_ray) / (numpy.linalg.norm(reflected_ray))\n",
    "            \n",
    "                # clip if below zero\n",
    "                cos_norm_to_lightsource = numpy.clip(cos_norm_to_lightsource, 0, 1)\n",
    "                cos_ray_to_reflection = numpy.clip(cos_ray_to_reflection, 0, 1)\n",
    "                \n",
    "                # apply power\n",
    "                cos_norm_to_lightsource = math.pow(cos_norm_to_lightsource, 2)\n",
    "                cos_ray_to_reflection = math.pow(cos_ray_to_reflection, 2)\n",
    "                \n",
    "                # candidate colour contribution\n",
    "                candidate_colour_contribution = (obj_colour * cos_norm_to_lightsource * cos_ray_to_reflection)\n",
    "                pass\n",
    "            \n",
    "            pass\n",
    "        \n",
    "        #next object\n",
    "        pass\n",
    "    \n",
    "    # fire off new ray if intersected and depth is within max\n",
    "    if (intersected):\n",
    "        \n",
    "        in_shadow = False\n",
    "        for obj in scene_objects:\n",
    "            # enusre object isn't current object from which shadow ray starts\n",
    "            if (obj != nearest_obj):\n",
    "                # check intersection with object\n",
    "                if obj.intersection(point_on_nearest_obj, to_light)[0]:\n",
    "                    in_shadow = True\n",
    "                    pass\n",
    "                pass\n",
    "            pass\n",
    "        \n",
    "        # only add colour contribution if not in shadow\n",
    "        if (not in_shadow):\n",
    "            # colour contribution from nearest object\n",
    "            colour_contribution = candidate_colour_contribution\n",
    "            pass\n",
    "        \n",
    "        # add ambient light, diminish with depth\n",
    "        colour_contribution += obj_colour * ambient / (depth)\n",
    "        \n",
    "        # recurse colour contribution from bounced ray\n",
    "        if (depth < max_depth):\n",
    "            # bounced ray (from source, not from light source)\n",
    "            bounced_ray = (2 * numpy.dot(norm, -ray_direction) * norm) + ray_direction\n",
    "            # divide by depth to reduce strength of light after many reflections\n",
    "            colour_contribution += (ray(point_on_nearest_obj, bounced_ray, depth + 1)[1] / (0.5 * depth))\n",
    "            pass\n",
    "        \n",
    "        pass\n",
    "    \n",
    "    return intersected, colour_contribution"
   ]
  },
  {
   "cell_type": "code",
   "execution_count": 25,
   "metadata": {
    "collapsed": true,
    "scrolled": true
   },
   "outputs": [],
   "source": [
    "# main loop is to consider every pixel of the viewport\n",
    "\n",
    "for pixel_ix in range(image.shape[0]):\n",
    "    for pixel_iy in range(image.shape[1]):\n",
    "\n",
    "        # ray direction\n",
    "        current_position = view_port_location + numpy.array([pixel_ix/resolution, pixel_iy/resolution, 0])\n",
    "        ray_direction = current_position - camera_location\n",
    "        ray_direction /= numpy.linalg.norm(ray_direction)\n",
    "        \n",
    "        # pixel is set to colour contribution from (recursive) ray\n",
    "        intersected, colour_contribution = ray(camera_location, ray_direction, 1)\n",
    "        if (intersected):\n",
    "            image[pixel_ix, pixel_iy] = colour_contribution\n",
    "        else:\n",
    "            image[pixel_ix, pixel_iy] = [0.3 + ray_direction[1], 0.3 + ray_direction[1], 0.6 + (ray_direction[1] * 5)]\n",
    "            pass\n",
    "        \n",
    "        pass\n",
    "    pass"
   ]
  },
  {
   "cell_type": "code",
   "execution_count": 26,
   "metadata": {
    "collapsed": true
   },
   "outputs": [],
   "source": [
    "# apply squashing function to image\n",
    "# first shift data into range [0,1] asymptotically\n",
    "# then remap to colour RGB range [0,255] dtype=uint8\n",
    "\n",
    "# squash with tanh()\n",
    "image = numpy.tanh(image)\n",
    "\n",
    "# remap to RGB range\n",
    "image_rgb = numpy.array(image*255, dtype='uint8')"
   ]
  },
  {
   "cell_type": "code",
   "execution_count": 27,
   "metadata": {},
   "outputs": [
    {
     "data": {
      "text/plain": [
       "<matplotlib.image.AxesImage at 0x10f1da780>"
      ]
     },
     "execution_count": 27,
     "metadata": {},
     "output_type": "execute_result"
    },
    {
     "data": {
      "image/png": "[encoded data removed]",
      "text/plain": [
       "<matplotlib.figure.Figure at 0x10ece3940>"
      ]
     },
     "metadata": {},
     "output_type": "display_data"
    }
   ],
   "source": [
    "# transpose array so origin is bottom left, by swapping dimensions 0 and 1, but leave dimension 3\n",
    "\n",
    "image_rgb2 = numpy.transpose(image_rgb, (1, 0, 2))\n",
    "plt.imshow(image_rgb2, origin='lower')"
   ]
  },
  {
   "cell_type": "code",
   "execution_count": 28,
   "metadata": {
    "collapsed": true
   },
   "outputs": [],
   "source": [
    "plt.imsave('test.png', image_rgb2, origin='lower')"
   ]
  },
  {
   "cell_type": "code",
   "execution_count": null,
   "metadata": {
    "collapsed": true
   },
   "outputs": [],
   "source": []
  }
 ],
 "metadata": {
  "kernelspec": {
   "display_name": "Python 3",
   "language": "python",
   "name": "python3"
  },
  "language_info": {
   "codemirror_mode": {
    "name": "ipython",
    "version": 3
   },
   "file_extension": ".py",
   "mimetype": "text/x-python",
   "name": "python",
   "nbconvert_exporter": "python",
   "pygments_lexer": "ipython3",
   "version": "3.6.2"
  }
 },
 "nbformat": 4,
 "nbformat_minor": 2
}
