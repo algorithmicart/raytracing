{
 "cells": [
  {
   "cell_type": "code",
   "execution_count": 40,
   "metadata": {
    "collapsed": true
   },
   "outputs": [],
   "source": [
    "# raytracing tutorial\n",
    "# 08- recursive raytracing with a simple scene"
   ]
  },
  {
   "cell_type": "code",
   "execution_count": 41,
   "metadata": {
    "collapsed": true
   },
   "outputs": [],
   "source": [
    "import numpy\n",
    "import matplotlib.pyplot as plt\n",
    "import math\n",
    "\n",
    "# plot images in this notebook\n",
    "%matplotlib inline"
   ]
  },
  {
   "cell_type": "code",
   "execution_count": 42,
   "metadata": {
    "collapsed": true
   },
   "outputs": [],
   "source": [
    "# axes x to the right, y upwards. z into the screen (left hand rule)"
   ]
  },
  {
   "cell_type": "code",
   "execution_count": 43,
   "metadata": {
    "collapsed": true
   },
   "outputs": [],
   "source": [
    "# sphere object\n",
    "\n",
    "class Sphere():\n",
    "    \n",
    "    def __init__(self, x, y, z, r, colour):\n",
    "        self.centre = numpy.array([x,y,z])\n",
    "        self.radius = r\n",
    "        self.colour = colour\n",
    "        pass\n",
    "    \n",
    "    def status(self):\n",
    "        print(\"centre = \", self.centre)\n",
    "        print(\"radius = \", self.radius)\n",
    "        print(\"colour = \", self.colour)\n",
    "        pass\n",
    "\n",
    "    def intersection(self, camera_location, ray_direction_vector):\n",
    "        # calculate quadratic determinant \"b^2 - 4ac\" for ray intersecting circle\n",
    "        b = numpy.dot(2 * ray_direction_vector,(camera_location - self.centre))\n",
    "        b2 = b*b\n",
    "        a = numpy.dot(ray_direction_vector, ray_direction_vector)\n",
    "        c = numpy.dot((self.centre - camera_location), (self.centre - camera_location)) - (self.radius * self.radius)\n",
    "        delta = b2 - (4 * a * c)\n",
    "        #print(delta)\n",
    "        \n",
    "        if (delta >= 0):\n",
    "            # calculate nearest point (lowest t)\n",
    "            t = (-b - math.sqrt(delta)) / (2 * a)\n",
    "            intersection_point = camera_location + (t * ray_direction_vector)\n",
    "            \n",
    "            # calculate normal at surface\n",
    "            normal = (intersection_point - self.centre) / numpy.linalg.norm(intersection_point - self.centre)\n",
    "            \n",
    "            # additional check to ensure intersection was in direction of ray, t>0\n",
    "            if (t<0):\n",
    "                # set delta negative as if not intersected\n",
    "                delta = -1\n",
    "                pass\n",
    "            \n",
    "            # return tuple (intersection yes/no, nearest point, normal)\n",
    "            return (delta>0, intersection_point, normal, self.colour)\n",
    "            pass\n",
    "        \n",
    "        # return tuple (intersection yes/no, nearest point, norm, colour)\n",
    "        return (delta >= 0, 0, 0, numpy.array([0,0,0]))"
   ]
  },
  {
   "cell_type": "code",
   "execution_count": 74,
   "metadata": {
    "collapsed": true
   },
   "outputs": [],
   "source": [
    "# camera location\n",
    "camera_location = numpy.array([0,0,-100])\n",
    "\n",
    "# view port\n",
    "view_port_location = numpy.array([-10, 0, 0])\n",
    "view_port_width = 20\n",
    "view_port_height = 20\n",
    "\n",
    "# resolution (pixels per unit distance)\n",
    "resolution = 40"
   ]
  },
  {
   "cell_type": "code",
   "execution_count": 75,
   "metadata": {
    "collapsed": true
   },
   "outputs": [],
   "source": [
    "# light source\n",
    "\n",
    "# light is at above right, and a bit forward\n",
    "#light_location = numpy.array([100, 100, -50])\n",
    "#light_location = numpy.array([0, 15, 50])\n",
    "light_location = numpy.array([100, 100, -50])\n",
    "\n",
    "# ambient light factor\n",
    "ambient = 0.25"
   ]
  },
  {
   "cell_type": "code",
   "execution_count": 76,
   "metadata": {},
   "outputs": [
    {
     "name": "stdout",
     "output_type": "stream",
     "text": [
      "centre =  [ 0 10 10]\n",
      "radius =  5\n",
      "colour =  [ 1.  0.  0.]\n",
      "centre =  [ 0 20 20]\n",
      "radius =  3\n",
      "colour =  [ 0.  0.  1.]\n",
      "centre =  [10 20 50]\n",
      "radius =  5\n",
      "colour =  [ 0.  1.  0.]\n",
      "centre =  [-10  20  50]\n",
      "radius =  2\n",
      "colour =  [ 1.  1.  0.]\n"
     ]
    }
   ],
   "source": [
    "# scene is a list of objects\n",
    "scene_objects = []\n",
    "\n",
    "# add sphere\n",
    "scene_objects.append(Sphere(0,10,10,5, numpy.array([1.0, 0.0, 0.0])))\n",
    "\n",
    "# add another sphere\n",
    "scene_objects.append(Sphere(0,20,20,3, numpy.array([0.0, 0.0, 1.0])))\n",
    "scene_objects.append(Sphere(10,20,50,5, numpy.array([0.0, 1.0, 0.0])))\n",
    "scene_objects.append(Sphere(-10,20,50,2, numpy.array([1.0, 1.0, 0.0])))\n",
    "\n",
    "# get status of each object\n",
    "for obj in scene_objects:\n",
    "    obj.status()\n",
    "    pass"
   ]
  },
  {
   "cell_type": "code",
   "execution_count": 77,
   "metadata": {},
   "outputs": [
    {
     "name": "stdout",
     "output_type": "stream",
     "text": [
      "image shape =  (800, 800, 3)\n"
     ]
    }
   ],
   "source": [
    "# create image\n",
    "\n",
    "image = numpy.zeros([view_port_width * resolution, view_port_height * resolution, 3], dtype='float64')\n",
    "print(\"image shape = \", image.shape)"
   ]
  },
  {
   "cell_type": "code",
   "execution_count": 78,
   "metadata": {
    "collapsed": true
   },
   "outputs": [],
   "source": [
    "# max ray tracing depth for scene\n",
    "max_depth = 2\n",
    "\n",
    "# recursive ray function\n",
    "def ray(ray_origin, ray_direction, depth):\n",
    "    \n",
    "    # start with zero colour contribution, false intersected flag and nearest point at infinity\n",
    "    colour_contribution = numpy.array([0.0,0.0,0.0])    \n",
    "    intersected = False\n",
    "    distance_to_nearest_point = numpy.Infinity\n",
    "    \n",
    "    for obj in scene_objects:\n",
    "        \n",
    "        # check intersection with object\n",
    "        intersection = obj.intersection(ray_origin, ray_direction)\n",
    "        \n",
    "        # did it intersect?\n",
    "        if intersection[0]:\n",
    "            intersected = True\n",
    "            \n",
    "            distance_to_point = numpy.linalg.norm(intersection[1] - ray_origin)\n",
    "            \n",
    "            if (distance_to_point < distance_to_nearest_point):\n",
    "                \n",
    "                # update nearest point\n",
    "                distance_to_nearest_point = distance_to_point\n",
    "                point_on_nearest_obj = intersection[1]\n",
    "                norm = intersection[2]\n",
    "                obj_colour = intersection[3]\n",
    "                \n",
    "                # vector to light\n",
    "                to_light = light_location - point_on_nearest_obj\n",
    "                to_light /= numpy.linalg.norm(to_light)\n",
    "                \n",
    "                # illumination factor\n",
    "                cos_norm_to_lightsource = numpy.dot(to_light, norm) / numpy.linalg.norm(to_light)\n",
    "                \n",
    "                # reflected factor (will have norm 1)\n",
    "                reflected_ray = (2 * numpy.dot(norm, to_light) * norm) - to_light\n",
    "                cos_ray_to_reflection = numpy.dot(-ray_direction, reflected_ray) / (numpy.linalg.norm(reflected_ray))\n",
    "            \n",
    "                # clip if below zero\n",
    "                cos_norm_to_lightsource = numpy.clip(cos_norm_to_lightsource, 0, 1)\n",
    "                cos_ray_to_reflection = numpy.clip(cos_ray_to_reflection, 0, 1)\n",
    "                \n",
    "                # apply power\n",
    "                cos_norm_to_lightsource = math.pow(cos_norm_to_lightsource, 2)\n",
    "                cos_ray_to_reflection = math.pow(cos_ray_to_reflection, 2)\n",
    "                \n",
    "                # candidate colour contribution\n",
    "                candidate_colour_contribution = (obj_colour * cos_norm_to_lightsource * cos_ray_to_reflection)\n",
    "                pass\n",
    "            \n",
    "            pass\n",
    "        \n",
    "        #next object\n",
    "        pass\n",
    "    \n",
    "    # fire off new ray if intersected and depth is within max\n",
    "    if (intersected):\n",
    "        \n",
    "        # colour contribution from nearest object\n",
    "        colour_contribution = candidate_colour_contribution\n",
    "        # add ambient light, diminish with depth\n",
    "        colour_contribution += obj_colour * ambient / (depth)\n",
    "        \n",
    "        # recurse colour contribution from bounced ray\n",
    "        if (depth < max_depth):\n",
    "            # bounced ray (from source, not from light source)\n",
    "            bounced_ray = (2 * numpy.dot(norm, -ray_direction) * norm) + ray_direction\n",
    "            # divide by depth to reduce strength of light after many reflections\n",
    "            colour_contribution += (ray(point_on_nearest_obj, bounced_ray, depth + 1)[1] / (0.5 * depth))\n",
    "            pass\n",
    "        \n",
    "        pass\n",
    "    \n",
    "    return intersected, colour_contribution"
   ]
  },
  {
   "cell_type": "code",
   "execution_count": 79,
   "metadata": {
    "scrolled": true
   },
   "outputs": [],
   "source": [
    "# main loop is to consider every pixel of the viewport\n",
    "\n",
    "for pixel_ix in range(image.shape[0]):\n",
    "    for pixel_iy in range(image.shape[1]):\n",
    "#for pixel_ix in range(400,401):\n",
    "#    for pixel_iy in range(280,281):\n",
    "\n",
    "\n",
    "        # ray direction\n",
    "        current_position = view_port_location + numpy.array([pixel_ix/resolution, pixel_iy/resolution, 0])\n",
    "        ray_direction = current_position - camera_location\n",
    "        ray_direction /= numpy.linalg.norm(ray_direction)\n",
    "        \n",
    "        # pixel is set to colour contribution from (recursive) ray\n",
    "        intersected, colour_contribution = ray(camera_location, ray_direction, 1)\n",
    "        if (intersected):\n",
    "            image[pixel_ix, pixel_iy] = colour_contribution\n",
    "        else:\n",
    "            image[pixel_ix, pixel_iy] = [0.3 + ray_direction[1], 0.3 + ray_direction[1], 0.6 + (ray_direction[1] * 5)]\n",
    "            pass\n",
    "        \n",
    "        pass\n",
    "    pass"
   ]
  },
  {
   "cell_type": "code",
   "execution_count": 80,
   "metadata": {
    "collapsed": true
   },
   "outputs": [],
   "source": [
    "# apply squashing function to image\n",
    "# first shift data into range [0,1] asymptotically\n",
    "# then remap to colour RGB range [0,255] dtype=uint8\n",
    "\n",
    "# squash with tanh()\n",
    "image = numpy.tanh(image)\n",
    "\n",
    "# remap to RGB range\n",
    "image_rgb = numpy.array(image*255, dtype='uint8')"
   ]
  },
  {
   "cell_type": "code",
   "execution_count": 81,
   "metadata": {},
   "outputs": [
    {
     "data": {
      "text/plain": [
       "<matplotlib.image.AxesImage at 0x117e66be0>"
      ]
     },
     "execution_count": 81,
     "metadata": {},
     "output_type": "execute_result"
    },
    {
     "data": {
      "image/png": "[encoded data removed]",
      "text/plain": [
       "<matplotlib.figure.Figure at 0x117c6a630>"
      ]
     },
     "metadata": {},
     "output_type": "display_data"
    }
   ],
   "source": [
    "# transpose array so origin is bottom left, by swapping dimensions 0 and 1, but leave dimension 3\n",
    "\n",
    "image_rgb2 = numpy.transpose(image_rgb, (1, 0, 2))\n",
    "plt.imshow(image_rgb2, origin='lower')"
   ]
  },
  {
   "cell_type": "code",
   "execution_count": 82,
   "metadata": {
    "collapsed": true
   },
   "outputs": [],
   "source": [
    "plt.imsave('test.png', image_rgb2, origin='lower')"
   ]
  },
  {
   "cell_type": "code",
   "execution_count": null,
   "metadata": {
    "collapsed": true
   },
   "outputs": [],
   "source": []
  }
 ],
 "metadata": {
  "kernelspec": {
   "display_name": "Python 3",
   "language": "python",
   "name": "python3"
  },
  "language_info": {
   "codemirror_mode": {
    "name": "ipython",
    "version": 3
   },
   "file_extension": ".py",
   "mimetype": "text/x-python",
   "name": "python",
   "nbconvert_exporter": "python",
   "pygments_lexer": "ipython3",
   "version": "3.6.2"
  }
 },
 "nbformat": 4,
 "nbformat_minor": 2
}
